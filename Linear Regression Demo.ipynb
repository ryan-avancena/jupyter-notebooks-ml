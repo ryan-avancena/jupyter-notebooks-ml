{
 "cells": [
  {
   "cell_type": "markdown",
   "id": "ae410735",
   "metadata": {},
   "source": [
    "# Linear Regression Demo"
   ]
  },
  {
   "cell_type": "markdown",
   "id": "0a952984",
   "metadata": {},
   "source": [
    "---"
   ]
  },
  {
   "cell_type": "markdown",
   "id": "4b08da50",
   "metadata": {},
   "source": [
    "## importing libraries and data "
   ]
  },
  {
   "cell_type": "code",
   "execution_count": 3,
   "id": "e9a9498d",
   "metadata": {},
   "outputs": [
    {
     "data": {
      "text/plain": [
       "Index(['Hours', 'Scores'], dtype='object')"
      ]
     },
     "execution_count": 3,
     "metadata": {},
     "output_type": "execute_result"
    }
   ],
   "source": [
    "import pandas as pd\n",
    "import matplotlib.pyplot as plt\n",
    "\n",
    "# Student Study Hour V2.csv\n",
    "data = pd.read_csv('Student Study Hour V2.csv')\n",
    "data.columns"
   ]
  },
  {
   "cell_type": "code",
   "execution_count": 4,
   "id": "c1c9fa16",
   "metadata": {
    "scrolled": true
   },
   "outputs": [
    {
     "name": "stdout",
     "output_type": "stream",
     "text": [
      "    Hours  Scores\n",
      "0     2.5      21\n",
      "1     5.1      47\n",
      "2     3.2      27\n",
      "3     8.5      75\n",
      "4     3.5      30\n",
      "5     1.5      20\n",
      "6     9.2      88\n",
      "7     5.5      60\n",
      "8     8.3      81\n",
      "9     2.7      25\n",
      "10    7.7      85\n",
      "11    5.9      62\n",
      "12    4.5      41\n",
      "13    3.3      42\n",
      "14    1.1      17\n",
      "15    8.9      95\n",
      "16    2.5      30\n",
      "17    1.9      24\n",
      "18    6.1      67\n",
      "19    7.4      69\n",
      "20    2.7      30\n",
      "21    4.8      54\n",
      "22    3.8      35\n",
      "23    6.9      76\n",
      "24    7.8      86\n",
      "25    1.3      19\n",
      "26    2.6      30\n",
      "27    6.1      63\n"
     ]
    }
   ],
   "source": [
    "print(data)"
   ]
  },
  {
   "cell_type": "markdown",
   "id": "134889b7",
   "metadata": {},
   "source": [
    "## visualizing data"
   ]
  },
  {
   "cell_type": "code",
   "execution_count": 5,
   "id": "aa6c0b16",
   "metadata": {},
   "outputs": [
    {
     "data": {
      "text/plain": [
       "<matplotlib.collections.PathCollection at 0x24581623670>"
      ]
     },
     "execution_count": 5,
     "metadata": {},
     "output_type": "execute_result"
    },
    {
     "data": {
      "image/png": "[encoded data removed]",
      "text/plain": [
       "<Figure size 432x288 with 1 Axes>"
      ]
     },
     "metadata": {
      "needs_background": "light"
     },
     "output_type": "display_data"
    }
   ],
   "source": [
    "plt.scatter(data.Hours,data.Scores)"
   ]
  },
  {
   "cell_type": "markdown",
   "id": "0d6fda24",
   "metadata": {},
   "source": [
    "## Mean Squared Error (Loss) Function Code"
   ]
  },
  {
   "cell_type": "code",
   "execution_count": 6,
   "id": "67ffc76d",
   "metadata": {},
   "outputs": [],
   "source": [
    "\"\"\"\n",
    "\n",
    "m - slope\n",
    "b - bias/y-intercept\n",
    "points - dataframe\n",
    "\n",
    "\"\"\"\n",
    "\n",
    "def MeanSquaredError(m,b,points): # or lossFunction\n",
    "    totalError = 0\n",
    "    for i in range(len(points)): # getting sum of points\n",
    "        \n",
    "        # points is assumed to be a pandas DataFrame\n",
    "        # iloc[i] is used to access the i-th row of the DataFrame points\n",
    "        # it retrieves the row as a pandas Series, where you can access individual columns by their column names or index positions.\n",
    "        # studytime is used to access the value in the column named \"Hours\" for the i-th row of the DataFrame \n",
    "        # assuming that \"Hours\" is a column in the DataFrame points\n",
    "        \n",
    "        x = points.iloc[i].Hours \n",
    "        y = points.iloc[i].Scores\n",
    "        totalError += (y - (m*x + b)) ** 2 # this is our error function\n",
    "        \n",
    "    totalError = float(len(points))"
   ]
  },
  {
   "cell_type": "markdown",
   "id": "9e9804ce",
   "metadata": {},
   "source": [
    "## Gradient Descent Function Code"
   ]
  },
  {
   "cell_type": "code",
   "execution_count": 7,
   "id": "182e2def",
   "metadata": {},
   "outputs": [],
   "source": [
    "def GradientDescent(mNow,bNow, points, L):\n",
    "    mGradient = 0\n",
    "    bGradient = 0\n",
    "    \n",
    "    n = len(points)\n",
    "    \n",
    "    for i in range(n):\n",
    "        x = points.iloc[i].Hours\n",
    "        y = points.iloc[i].Scores\n",
    "        \n",
    "        # this is the partial derivative with respect to 'm' \n",
    "        mGradient += -(2/n) * x * (y- (mNow * x + bNow))\n",
    "        \n",
    "        # this is the partial derivative with respect to 'b' \n",
    "        bGradient += -(2/n) * (y - (mNow * x + bNow))\n",
    "        \n",
    "    m = mNow - mGradient * L\n",
    "    b = bNow - bGradient * L \n",
    "    \n",
    "    return m,b"
   ]
  },
  {
   "cell_type": "code",
   "execution_count": 8,
   "id": "1ed65ef4",
   "metadata": {},
   "outputs": [
    {
     "name": "stdout",
     "output_type": "stream",
     "text": [
      "Epoch: 0, m:0, b:0\n",
      "Epoch: 50, m:9.4947653386804, b:1.597152107395178\n",
      "Epoch: 100, m:9.905850022491457, b:1.696646652081573\n",
      "Epoch: 150, m:9.919091199713185, b:1.7299358490916958\n",
      "Epoch: 200, m:9.914999620871255, b:1.759741350646228\n",
      "Epoch: 250, m:9.910242919089596, b:1.788822655050309\n",
      "Epoch: 300, m:9.905549377533982, b:1.8173121767181892\n",
      "Epoch: 350, m:9.900949040064793, b:1.8452270093021435\n",
      "Epoch: 400, m:9.896441399313423, b:1.8725789667312784\n",
      "Epoch: 450, m:9.892024646279722, b:1.899379408525996\n",
      "Epoch: 500, m:9.887696950968998, b:1.9256394556861138\n",
      "Epoch: 550, m:9.883456517768217, b:1.951370004556626\n",
      "Epoch: 600, m:9.879301587160157, b:1.976581731754311\n",
      "Epoch: 650, m:9.875230435101047, b:2.0012850986156328\n",
      "Epoch: 700, m:9.871241372309925, b:2.0254903555383352\n",
      "Epoch: 750, m:9.867332743567856, b:2.0492075462347774\n",
      "Epoch: 800, m:9.86350292703117, b:2.072446511899451\n",
      "Epoch: 850, m:9.859750333558484, b:2.095216895292496\n",
      "Epoch: 900, m:9.85607340605128, b:2.117528144740846\n",
      "Epoch: 950, m:9.85247061880784, b:2.139389518058725\n",
      "Slope: 9.848940476890151, Bias:2.1608100863890614\n"
     ]
    },
    {
     "data": {
      "image/png": "[encoded data removed]",
      "text/plain": [
       "<Figure size 432x288 with 1 Axes>"
      ]
     },
     "metadata": {
      "needs_background": "light"
     },
     "output_type": "display_data"
    }
   ],
   "source": [
    "m = 0\n",
    "b = 0\n",
    "L = 0.001\n",
    "epochs = 1000 # iterations\n",
    "\n",
    "for i in range(epochs):\n",
    "    if i % 50 == 0:\n",
    "            print(f\"Epoch: {i}, m:{m}, b:{b}\")\n",
    "    m,b = GradientDescent(m,b,data,L)\n",
    "    \n",
    "print(f\"Slope: {m}, Bias:{b}\")\n",
    "\n",
    "plt.scatter(data.Hours, data.Scores, color=\"black\")\n",
    "\n",
    "# regression line\n",
    "plt.plot(list(range(1,10)), [m * x + b for x in range(1,10)], color=\"red\")\n",
    "plt.xlabel(\"Hours\")\n",
    "plt.ylabel(\"Scores\")\n",
    "plt.show()"
   ]
  }
 ],
 "metadata": {
  "kernelspec": {
   "display_name": "Python 3 (ipykernel)",
   "language": "python",
   "name": "python3"
  },
  "language_info": {
   "codemirror_mode": {
    "name": "ipython",
    "version": 3
   },
   "file_extension": ".py",
   "mimetype": "text/x-python",
   "name": "python",
   "nbconvert_exporter": "python",
   "pygments_lexer": "ipython3",
   "version": "3.9.7"
  }
 },
 "nbformat": 4,
 "nbformat_minor": 5
}
