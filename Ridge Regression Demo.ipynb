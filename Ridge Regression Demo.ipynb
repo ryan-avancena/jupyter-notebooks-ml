{
 "cells": [
  {
   "cell_type": "code",
   "execution_count": 10,
   "id": "e79f47b4",
   "metadata": {},
   "outputs": [],
   "source": [
    "import numpy as np \n",
    "import pandas as pd \n",
    "from sklearn.model_selection import train_test_split \n",
    "import matplotlib.pyplot as plt "
   ]
  },
  {
   "cell_type": "code",
   "execution_count": 11,
   "id": "fe1867cb",
   "metadata": {},
   "outputs": [],
   "source": [
    "class RidgeRegression():\n",
    "    def __init__(self, learning_rate, iterations, l2_penalty):\n",
    "        self.learning_rate = learning_rate\n",
    "        self.iterations = iterations\n",
    "        self.l2_penalty = l2_penalty # L2 regulization term,  lambda*sum(individual weight/slope coefficients)\n",
    "        \n",
    "    # function for model training\n",
    "    def fit(self, X,Y):\n",
    "        # num of training examples, number of features\n",
    "        \n",
    "        self.m, self.n = X.shape \n",
    "        # self.m represents the number of training (rows) in the input data X \n",
    "        # self.n represents the number of features (columns) in the input data X\n",
    "        \n",
    "        # weight intialization\n",
    "        self.W = np.zeros(self.n) # creates array full of zeroes\n",
    "        \n",
    "        self.b = 0 # self.b is an attribute representing the bias term of the linear regression model\n",
    "        self.X = X # self.X represents the input features for training the linear regression model    \n",
    "        self.Y = Y # self.Y represents the target values or labels corresponding to the input features\n",
    "        \n",
    "        # gradient descent learning\n",
    "        for i in range(self.iterations):\n",
    "            self.update_weights()\n",
    "        return self\n",
    "    \n",
    "    # helper function to update weights in gradient descent\n",
    "    def update_weights(self):\n",
    "        # Y_pred calculates the predicted target values (Y_pred) by calling the predict method with the input features self.X. \n",
    "        # calculating the dot product of the feature matrix and the weight vector self.W, adding the bias self.b\n",
    "        Y_pred = self.predict(self.X) \n",
    "        \n",
    "        # calculate gradients, these are MSE loss functions\n",
    "        dW = ( - ( 2 * ( self.X.T ).dot( self.Y - Y_pred ) ) +               \n",
    "               ( 2 * self.l2_penalty * self.W ) ) / self.m      \n",
    "        db = - 2 * np.sum( self.Y - Y_pred ) / self.m\n",
    "        \n",
    "        # update weights     \n",
    "        self.W = self.W - self.learning_rate * dW     \n",
    "        self.b = self.b - self.learning_rate * db         \n",
    "        return self\n",
    "    \n",
    "    # hypothetical function\n",
    "    def predict( self, X ) :     \n",
    "        return X.dot( self.W ) + self.b "
   ]
  },
  {
   "cell_type": "code",
   "execution_count": 12,
   "id": "da4b85fe",
   "metadata": {},
   "outputs": [
    {
     "name": "stdout",
     "output_type": "stream",
     "text": [
      "Predicted values  [ 40831.44 122898.14  65078.42]\n",
      "Real values       [ 37731 122391  57081]\n",
      "Trained W         9325.76\n",
      "Trained b         26842.8\n"
     ]
    },
    {
     "data": {
      "image/png": "[encoded data removed]",
      "text/plain": [
       "<Figure size 432x288 with 1 Axes>"
      ]
     },
     "metadata": {
      "needs_background": "light"
     },
     "output_type": "display_data"
    }
   ],
   "source": [
    "def main():\n",
    "    # Importing dataset     \n",
    "    df = pd.read_csv( \"salary_data.csv\" ) \n",
    "    X = df.iloc[:, :-1].values \n",
    "    Y = df.iloc[:, 1].values     \n",
    "  \n",
    "    # Splitting dataset into train and test set \n",
    "    X_train, X_test, Y_train, Y_test = train_test_split( X, Y,  \n",
    "                                            \n",
    "                                          test_size = 1 / 3, random_state = 0 ) \n",
    "      \n",
    "    # Model training     \n",
    "    model = RidgeRegression( iterations = 1000,                              \n",
    "                            learning_rate = 0.01, l2_penalty = 1 ) \n",
    "    model.fit( X_train, Y_train ) \n",
    "      \n",
    "    # Prediction on test set \n",
    "    Y_pred = model.predict( X_test )     \n",
    "    print( \"Predicted values \", np.round( Y_pred[:3], 2 ) )      \n",
    "    print( \"Real values      \", Y_test[:3] )     \n",
    "    print( \"Trained W        \", round( model.W[0], 2 ) )     \n",
    "    print( \"Trained b        \", round( model.b, 2 ) ) \n",
    "      \n",
    "    # Visualization on test set      \n",
    "    plt.scatter( X_test, Y_test, color = 'blue', label='Actual Data' )     \n",
    "    plt.plot( X_test, Y_pred, color = 'orange', label='Regression Line' )     \n",
    "    plt.title( 'Salary vs Experience' )     \n",
    "    plt.xlabel( 'Years of Experience' )     \n",
    "    plt.ylabel( 'Salary' )     \n",
    "    plt.show() \n",
    "      \n",
    "if __name__ == \"__main__\" :  \n",
    "    main() "
   ]
  },
  {
   "cell_type": "code",
   "execution_count": null,
   "id": "a20b4b51",
   "metadata": {},
   "outputs": [],
   "source": []
  },
  {
   "cell_type": "code",
   "execution_count": null,
   "id": "9a6c7cea",
   "metadata": {},
   "outputs": [],
   "source": []
  }
 ],
 "metadata": {
  "kernelspec": {
   "display_name": "Python 3 (ipykernel)",
   "language": "python",
   "name": "python3"
  },
  "language_info": {
   "codemirror_mode": {
    "name": "ipython",
    "version": 3
   },
   "file_extension": ".py",
   "mimetype": "text/x-python",
   "name": "python",
   "nbconvert_exporter": "python",
   "pygments_lexer": "ipython3",
   "version": "3.9.7"
  }
 },
 "nbformat": 4,
 "nbformat_minor": 5
}
